{
 "cells": [
  {
   "cell_type": "code",
   "execution_count": 2,
   "id": "incident-encounter",
   "metadata": {},
   "outputs": [],
   "source": [
    "setwd('/root/cibersort/original/1.clustering')\n",
    "seed = 1055460630\n",
    "f = read.csv('../CIBERSORT_0104.txt',sep='\\t')\n",
    "f = as.data.frame(f)"
   ]
  },
  {
   "cell_type": "code",
   "execution_count": 3,
   "id": "thorough-balloon",
   "metadata": {},
   "outputs": [
    {
     "name": "stderr",
     "output_type": "stream",
     "text": [
      "Updating HTML index of packages in '.Library'\n",
      "Making 'packages.html' ... done\n",
      "Bioconductor version 3.10 (BiocManager 1.30.10), R 3.6.1 (2019-07-05)\n",
      "Installing package(s) 'BiocVersion', 'ConsensusClusterPlus'\n",
      "also installing the dependencies ‘BiocGenerics’, ‘Biobase’, ‘ALL’\n",
      "\n",
      "Updating HTML index of packages in '.Library'\n",
      "Making 'packages.html' ... done\n",
      "Old packages: 'BH', 'DBI', 'IRdisplay', 'IRkernel', 'KernSmooth', 'MASS',\n",
      "  'Matrix', 'ModelMetrics', 'R6', 'Rcpp', 'SQUAREM', 'TTR', 'askpass',\n",
      "  'backports', 'boot', 'broom', 'callr', 'caret', 'class', 'cli', 'clipr',\n",
      "  'cluster', 'codetools', 'colorspace', 'crayon', 'curl', 'data.table',\n",
      "  'dbplyr', 'digest', 'dplyr', 'ellipsis', 'evaluate', 'fansi', 'forcats',\n",
      "  'foreach', 'formatR', 'fs', 'generics', 'ggplot2', 'glmnet', 'glue', 'gower',\n",
      "  'haven', 'hexbin', 'hms', 'htmltools', 'htmlwidgets', 'httpuv', 'httr',\n",
      "  'ipred', 'iterators', 'jsonlite', 'knitr', 'labeling', 'later', 'lattice',\n",
      "  'lava', 'lubridate', 'magrittr', 'markdown', 'mgcv', 'mime', 'modelr',\n",
      "  'nlme', 'nnet', 'numDeriv', 'openssl', 'pbdZMQ', 'pillar', 'pkgconfig',\n",
      "  'plyr', 'prettyunits', 'processx', 'prodlim', 'progress', 'promises', 'ps',\n",
      "  'purrr', 'quantmod', 'readr', 'recipes', 'repr', 'reprex', 'reshape2',\n",
      "  'rlang', 'rmarkdown', 'rstudioapi', 'rvest', 'scales', 'selectr', 'shiny',\n",
      "  'spatial', 'stringi', 'survival', 'sys', 'tibble', 'tidyr', 'tidyselect',\n",
      "  'tidyverse', 'tinytex', 'uuid', 'whisker', 'withr', 'xfun', 'xml2', 'xts',\n",
      "  'yaml', 'zoo'\n"
     ]
    }
   ],
   "source": [
    "if (!requireNamespace(\"BiocManager\", quietly = TRUE))\n",
    "    install.packages(\"BiocManager\")\n",
    "\n",
    "BiocManager::install(\"ConsensusClusterPlus\")"
   ]
  },
  {
   "cell_type": "code",
   "execution_count": 5,
   "id": "worldwide-district",
   "metadata": {},
   "outputs": [
    {
     "name": "stderr",
     "output_type": "stream",
     "text": [
      "end fraction\n",
      "clustered\n",
      "clustered\n",
      "clustered\n",
      "clustered\n",
      "clustered\n",
      "clustered\n",
      "clustered\n"
     ]
    }
   ],
   "source": [
    "library(ConsensusClusterPlus)\n",
    "results = ConsensusClusterPlus(seed=seed,as.matrix(f),maxK = 8, reps=100,pItem=0.8,pFeature=1,title = 'clustering',clusterAlg = 'pam', distance='pearson',plot='png')"
   ]
  },
  {
   "cell_type": "code",
   "execution_count": 6,
   "id": "governmental-cleaning",
   "metadata": {},
   "outputs": [],
   "source": [
    "result3 <- results[[3]]"
   ]
  },
  {
   "cell_type": "code",
   "execution_count": 9,
   "id": "regular-liberia",
   "metadata": {},
   "outputs": [
    {
     "data": {
      "text/plain": [
       "R version 3.6.1 (2019-07-05)\n",
       "Platform: x86_64-conda_cos6-linux-gnu (64-bit)\n",
       "Running under: Ubuntu 18.04.5 LTS\n",
       "\n",
       "Matrix products: default\n",
       "BLAS/LAPACK: /root/anaconda3/envs/cibersort/lib/R/lib/libRblas.so\n",
       "\n",
       "locale:\n",
       " [1] LC_CTYPE=C.UTF-8    LC_NUMERIC=C        LC_TIME=C          \n",
       " [4] LC_COLLATE=C        LC_MONETARY=C       LC_MESSAGES=C      \n",
       " [7] LC_PAPER=C          LC_NAME=C           LC_ADDRESS=C       \n",
       "[10] LC_TELEPHONE=C      LC_MEASUREMENT=C    LC_IDENTIFICATION=C\n",
       "\n",
       "attached base packages:\n",
       "[1] stats     graphics  grDevices utils     datasets  methods   base     \n",
       "\n",
       "other attached packages:\n",
       "[1] ConsensusClusterPlus_1.50.0\n",
       "\n",
       "loaded via a namespace (and not attached):\n",
       " [1] Rcpp_1.0.1          digest_0.6.18       crayon_1.3.4       \n",
       " [4] IRdisplay_0.7.0     repr_0.19.2         jsonlite_1.6       \n",
       " [7] evaluate_0.13       uuid_0.1-2          IRkernel_0.8.15    \n",
       "[10] tools_3.6.1         Biobase_2.46.0      parallel_3.6.1     \n",
       "[13] compiler_3.6.1      BiocGenerics_0.32.0 base64enc_0.1-3    \n",
       "[16] cluster_2.0.8       BiocManager_1.30.10 htmltools_0.3.6    \n",
       "[19] pbdZMQ_0.3-3       "
      ]
     },
     "metadata": {},
     "output_type": "display_data"
    }
   ],
   "source": [
    "icl = calcICL(results,title='cluster_indexing_0104',plot='png')\n",
    "itemcons = icl[['itemConsensus']]\n",
    "write.table(itemcons[itemcons$'k'==3,],file='CC_0104.txt',sep='\\t',quote = FALSE)\n",
    "sessionInfo()"
   ]
  },
  {
   "cell_type": "code",
   "execution_count": null,
   "id": "universal-shepherd",
   "metadata": {},
   "outputs": [],
   "source": []
  }
 ],
 "metadata": {
  "kernelspec": {
   "display_name": "R",
   "language": "R",
   "name": "ir"
  },
  "language_info": {
   "codemirror_mode": "r",
   "file_extension": ".r",
   "mimetype": "text/x-r-source",
   "name": "R",
   "pygments_lexer": "r",
   "version": "3.6.1"
  }
 },
 "nbformat": 4,
 "nbformat_minor": 5
}
