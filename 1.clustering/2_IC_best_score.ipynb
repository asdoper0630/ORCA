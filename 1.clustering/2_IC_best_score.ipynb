{
 "cells": [
  {
   "cell_type": "code",
   "execution_count": 1,
   "id": "funky-rider",
   "metadata": {},
   "outputs": [
    {
     "name": "stdout",
     "output_type": "stream",
     "text": [
      "173\n"
     ]
    }
   ],
   "source": [
    "with open('CC_result.txt','r') as f:\n",
    "    lines = f.readlines()\n",
    "\n",
    "header = '\\t'.join(lines[0].split('\\t')[0:3])+'\\n'\n",
    "class_dic = {}\n",
    "\n",
    "for line in lines[1:]:\n",
    "\n",
    "    lsp = line.split()\n",
    "    cluster = int(lsp[2])\n",
    "    sample  = lsp[3]\n",
    "    value   = float(lsp[4])\n",
    "\n",
    "    if sample not in class_dic:\n",
    "        class_dic[sample] = [cluster,value]\n",
    "    elif sample in class_dic:\n",
    "        if value >= class_dic[sample][1]:\n",
    "            class_dic[sample] = [cluster,value]\n",
    "        else:\n",
    "            pass\n",
    "\n",
    "print(len(class_dic))\n",
    "result1 = ''\n",
    "result2 = ''\n",
    "result3 = ''\n",
    "\n",
    "for sample in class_dic:\n",
    "    sample1 = sample.replace('.','-')\n",
    "    if class_dic[sample][0] == 1:\n",
    "        result1 += '3\\t1\\t'+sample1+'\\n'\n",
    "    elif class_dic[sample][0] == 2:\n",
    "        result2 += '3\\t2\\t'+sample1+'\\n'\n",
    "    elif class_dic[sample][0] == 3:\n",
    "        result3 += '3\\t3\\t'+sample1+'\\n'\n",
    "\n",
    "with open('itemConsensus_BS_0104.txt','w') as sv:\n",
    "    sv.write(header+result1+result2+result3)\n"
   ]
  },
  {
   "cell_type": "code",
   "execution_count": null,
   "id": "noted-soldier",
   "metadata": {},
   "outputs": [],
   "source": []
  }
 ],
 "metadata": {
  "kernelspec": {
   "display_name": "Python 3",
   "language": "python",
   "name": "python3"
  },
  "language_info": {
   "codemirror_mode": {
    "name": "ipython",
    "version": 3
   },
   "file_extension": ".py",
   "mimetype": "text/x-python",
   "name": "python",
   "nbconvert_exporter": "python",
   "pygments_lexer": "ipython3",
   "version": "3.7.9"
  }
 },
 "nbformat": 4,
 "nbformat_minor": 5
}
