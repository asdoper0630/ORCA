{
 "cells": [
  {
   "cell_type": "code",
   "execution_count": 1,
   "id": "dominant-belfast",
   "metadata": {},
   "outputs": [
    {
     "name": "stdout",
     "output_type": "stream",
     "text": [
      "DO50692     1\n",
      "DO50694     1\n",
      "DO50690     1\n",
      "DO50688     1\n",
      "DO50682     1\n",
      "DO50684     0\n",
      "DO50685     1\n",
      "DO50672     1\n",
      "DO50660     1\n",
      "DO50659     1\n",
      "DO218554    1\n",
      "DO50732     0\n",
      "DO50734     1\n",
      "DO50731     1\n",
      "DO50721     1\n",
      "DO50724     1\n",
      "DO50727     1\n",
      "DO50718     1\n",
      "DO50717     1\n",
      "DO50700     1\n",
      "DO50702     1\n",
      "DO50703     1\n",
      "DO50704     0\n",
      "DO50705     1\n",
      "DO27959     0\n",
      "DO27963     0\n",
      "DO227603    1\n",
      "DO227520    1\n",
      "DO227545    1\n",
      "DO227557    1\n",
      "DO227553    1\n",
      "DO227579    0\n",
      "DO218012    1\n",
      "DO218280    1\n",
      "Name: predicted_group, dtype: int64\n"
     ]
    },
    {
     "name": "stderr",
     "output_type": "stream",
     "text": [
      "/root/anaconda3/envs/cibersort/lib/python3.7/site-packages/lifelines/fitters/kaplan_meier_fitter.py:265: FutureWarning: Support for multi-dimensional indexing (e.g. `obj[:, None]`) is deprecated and will be removed in a future version.  Convert to a numpy array before indexing instead.\n",
      "  self.confidence_interval_ = self._bounds(cumulative_sq_[:, None], alpha, ci_labels)\n",
      "/root/anaconda3/envs/cibersort/lib/python3.7/site-packages/lifelines/fitters/kaplan_meier_fitter.py:265: FutureWarning: Support for multi-dimensional indexing (e.g. `obj[:, None]`) is deprecated and will be removed in a future version.  Convert to a numpy array before indexing instead.\n",
      "  self.confidence_interval_ = self._bounds(cumulative_sq_[:, None], alpha, ci_labels)\n"
     ]
    },
    {
     "data": {
      "image/png": "[encoded data removed]",
      "text/plain": [
       "<Figure size 360x360 with 1 Axes>"
      ]
     },
     "metadata": {},
     "output_type": "display_data"
    }
   ],
   "source": [
    "import pandas as pd\n",
    "import numpy as np\n",
    "import seaborn as sns\n",
    "import matplotlib.pyplot as plt\n",
    "sns.set(font_scale=1.0)\n",
    "\n",
    "#seaborn Gr-Bk-Rd palette\n",
    "pal = sns.diverging_palette(127.7, 12.2, l=53.4, n=255, center=\"dark\")\n",
    "\n",
    "pd.set_option('display.max_columns', 500)\n",
    "\n",
    "from lifelines import KaplanMeierFitter\n",
    "from lifelines.statistics import logrank_test\n",
    "import matplotlib.pyplot as plt\n",
    "kmf = KaplanMeierFitter()\n",
    "\n",
    "from scipy import stats\n",
    "import PIL\n",
    "\n",
    "#data input\n",
    "table = pd.read_csv(\"clustered_sample.txt\",sep='\\t')\n",
    "table.index = list(table.Sample_ID)\n",
    "\n",
    "\n",
    "table['status'] = (table['status']==1.0)\n",
    "\n",
    "fig,ax = plt.subplots(figsize=(5,5))\n",
    "\n",
    "pr = table.predicted_group\n",
    "pr = pr.replace('High_risk',0)\n",
    "pr = pr.replace('low_risk',1)\n",
    "table.predicted_group = pr\n",
    "table.predicted_group = abs(table['predicted_group'].astype(int))\n",
    "print(table.predicted_group)\n",
    "\n",
    "mask = (table['predicted_group'] == 0)\n",
    "kmf.fit(table['days'][mask],table['status'][mask],label='high_risk_predicted')\n",
    "kmf.plot(ax=ax, ci_show=False,color=\"#B55D60\")\n",
    "\n",
    "\n",
    "mask2 = (table['predicted_group'] == 1)\n",
    "kmf.fit(table['days'][mask2],table['status'][mask2],label='low_risk_predicted')\n",
    "kmf.plot(ax=ax, ci_show=False,color=\"#5975A4\")\n",
    "\n",
    "result = logrank_test(table['status'][mask], table['status'][mask2], table['days'][mask], table['days'][mask2], alpha=.99)\n",
    "pvalue = result.p_value\n",
    "ax.text(500,0.2,'P-value=%.5f'% pvalue)\n",
    "\n",
    "\n",
    "ax.set_xlabel('Days')\n",
    "ax.set_ylabel('Survival')\n",
    "ax.legend(loc=('lower right'))\n",
    "plt.savefig('./survival.tiff', dpi=300, bbox_inches='tight')\n"
   ]
  },
  {
   "cell_type": "code",
   "execution_count": null,
   "id": "imported-compound",
   "metadata": {},
   "outputs": [],
   "source": []
  }
 ],
 "metadata": {
  "kernelspec": {
   "display_name": "Python 3",
   "language": "python",
   "name": "python3"
  },
  "language_info": {
   "codemirror_mode": {
    "name": "ipython",
    "version": 3
   },
   "file_extension": ".py",
   "mimetype": "text/x-python",
   "name": "python",
   "nbconvert_exporter": "python",
   "pygments_lexer": "ipython3",
   "version": "3.7.9"
  }
 },
 "nbformat": 4,
 "nbformat_minor": 5
}
