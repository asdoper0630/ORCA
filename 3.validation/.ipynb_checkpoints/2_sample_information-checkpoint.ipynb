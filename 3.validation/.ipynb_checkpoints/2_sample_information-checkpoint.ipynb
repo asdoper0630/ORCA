{
 "cells": [
  {
   "cell_type": "code",
   "execution_count": 2,
   "id": "terminal-alias",
   "metadata": {},
   "outputs": [],
   "source": [
    "with open('CIBERSORT_prediction.txt') as f:\n",
    "    lines = f.readlines()\n",
    "\n",
    "class_dic = {}\n",
    "\n",
    "for line in lines[1:]:\n",
    "    lsp = line.strip().split('\\t')\n",
    "\n",
    "    if int(lsp[1]) == 0:\n",
    "        class_dic[lsp[0]] = 'High_risk'\n",
    "    elif int(lsp[1]) == 1:\n",
    "        class_dic[lsp[0]] = 'low_risk'\n",
    "\n",
    "with open('../donor.tsv') as f:\n",
    "    lines = f.readlines()\n",
    "\n",
    "result_list = ['\\t'.join(['Sample_ID','status','days','predicted_group'])]\n",
    "\n",
    "\n",
    "for line in lines[1:]:\n",
    "    lsp = line.strip().split('\\t')\n",
    "    sample = lsp[0]\n",
    "    if sample not in class_dic:\n",
    "        continue\n",
    "    status = lsp[5]\n",
    "    if status == 'alive':\n",
    "        status = '0'\n",
    "    elif status == 'deceased':\n",
    "        status = '1'\n",
    "    else:\n",
    "        print(error)\n",
    "\n",
    "    days = lsp[17]\n",
    "    result_list.append('\\t'.join([sample,status,days,class_dic[sample]]))\n",
    "\n",
    "\n",
    "with open('clustered_sample.txt','w') as sv:\n",
    "    sv.write('\\n'.join(result_list))\n"
   ]
  },
  {
   "cell_type": "code",
   "execution_count": null,
   "id": "satellite-german",
   "metadata": {},
   "outputs": [],
   "source": []
  }
 ],
 "metadata": {
  "kernelspec": {
   "display_name": "Python 3",
   "language": "python",
   "name": "python3"
  },
  "language_info": {
   "codemirror_mode": {
    "name": "ipython",
    "version": 3
   },
   "file_extension": ".py",
   "mimetype": "text/x-python",
   "name": "python",
   "nbconvert_exporter": "python",
   "pygments_lexer": "ipython3",
   "version": "3.7.9"
  }
 },
 "nbformat": 4,
 "nbformat_minor": 5
}
