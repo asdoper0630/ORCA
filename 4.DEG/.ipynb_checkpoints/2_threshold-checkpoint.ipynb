{
 "cells": [
  {
   "cell_type": "code",
   "execution_count": 10,
   "id": "swedish-portfolio",
   "metadata": {},
   "outputs": [],
   "source": [
    "for file in ['TCGA','ICGC']:\n",
    "    with open('limma/'+file+'_Low_vs_High_risk.txt') as f:\n",
    "        lines = f.readlines()\n",
    "\n",
    "    up_result = [lines[0].strip()]\n",
    "    dn_result = [lines[0].strip()]\n",
    "    for line in lines[1:]:\n",
    "        lsp = line.strip().split()\n",
    "        lsp[0] = lsp[0].split('|')[0]\n",
    "        logfc = float(lsp[1])\n",
    "        pval = float(lsp[4])\n",
    "        if pval < 0.05:\n",
    "            if logfc > 1.2:\n",
    "                 up_result.append('\\t'.join(lsp).strip())\n",
    "            elif logfc < -1.2:\n",
    "                 dn_result.append('\\t'.join(lsp).strip())\n",
    "\n",
    "    with open('limma/'+file+'_limma_trimmed_upreg.txt','w') as sv:\n",
    "        sv.write('\\n'.join(up_result))\n",
    "    with open('limma/'+file+'_limma_trimmed_downreg.txt','w') as sv:\n",
    "        sv.write('\\n'.join(dn_result))\n"
   ]
  },
  {
   "cell_type": "code",
   "execution_count": 11,
   "id": "empty-cycling",
   "metadata": {},
   "outputs": [
    {
     "name": "stdout",
     "output_type": "stream",
     "text": [
      "{'SPRR3'}\n",
      "{'COL11A1', 'COL10A1', 'RNF128', 'MMP11', 'CTHRC1', 'MMP13'}\n"
     ]
    }
   ],
   "source": [
    "icgc_up = pd.read_csv('limma/'+'ICGC_limma_trimmed_upreg.txt',sep='\\t')\n",
    "tcga_up = pd.read_csv('limma/'+'TCGA_limma_trimmed_upreg.txt',sep='\\t')\n",
    "icgc_dw = pd.read_csv('limma/'+'ICGC_limma_trimmed_downreg.txt',sep='\\t')\n",
    "tcga_dw = pd.read_csv('limma/'+'TCGA_limma_trimmed_downreg.txt',sep='\\t')\n",
    "\n",
    "print(set(icgc_up.index).intersection(tcga_up.index))\n",
    "print(set(icgc_dw.index).intersection(tcga_dw.index))\n"
   ]
  },
  {
   "cell_type": "code",
   "execution_count": null,
   "id": "front-boundary",
   "metadata": {},
   "outputs": [],
   "source": []
  }
 ],
 "metadata": {
  "kernelspec": {
   "display_name": "Python 3",
   "language": "python",
   "name": "python3"
  },
  "language_info": {
   "codemirror_mode": {
    "name": "ipython",
    "version": 3
   },
   "file_extension": ".py",
   "mimetype": "text/x-python",
   "name": "python",
   "nbconvert_exporter": "python",
   "pygments_lexer": "ipython3",
   "version": "3.7.9"
  }
 },
 "nbformat": 4,
 "nbformat_minor": 5
}
